{
 "cells": [
  {
   "cell_type": "code",
   "execution_count": 87,
   "metadata": {},
   "outputs": [],
   "source": [
    "import pandas as pd\n",
    "import numpy as np\n",
    "import os\n",
    "from sklearn import preprocessing\n",
    "from collections import deque\n",
    "import random\n",
    "import time\n",
    "import tensorflow as tf\n",
    "from tensorflow.keras.models import Sequential\n",
    "from tensorflow.keras.layers import Dense, Dropout, LSTM, BatchNormalization\n",
    "from tensorflow.keras.callbacks import TensorBoard, ModelCheckpoint\n",
    "#df=pd.read_csv('crypto_data/LTC-USD.csv',names=['time','low','high','open','close','volume'])"
   ]
  },
  {
   "cell_type": "code",
   "execution_count": 88,
   "metadata": {},
   "outputs": [],
   "source": [
    "#df.head()\n",
    "def preprocess_df(df):\n",
    "    df = df.drop('future',1)\n",
    "    for col in df.columns:\n",
    "        if col!='target':\n",
    "            df[col] = df[col].pct_change()\n",
    "            df.dropna(inplace=True)\n",
    "            df[col]=preprocessing.scale(df[col].values)\n",
    "    df.dropna(inplace=True)\n",
    "    sequential_data=[]\n",
    "    prev_days = deque(maxlen=SEQ_LEN)\n",
    "    for i in df.values:\n",
    "        prev_days.append([n for n in i[:-1]])\n",
    "        if len(prev_days)==SEQ_LEN:\n",
    "            sequential_data.append([np.array(prev_days),i[-1]])\n",
    "    \n",
    "    random.shuffle(sequential_data)    \n",
    "    buys=[]\n",
    "    sells=[]\n",
    "    for seq,target in sequential_data:\n",
    "        if target==0:\n",
    "            sells.append([seq,target])\n",
    "        elif target==1:\n",
    "            buys.append([seq,target])\n",
    "    random.shuffle(buys)\n",
    "    random.shuffle(sells)\n",
    "    lower=min(len(buys),len(sells))\n",
    "    buys=buys[:lower]\n",
    "    sells=sells[:lower]\n",
    "    sequential_data = buys+sells\n",
    "    random.shuffle(sequential_data)\n",
    "    X=[]\n",
    "    Y=[]\n",
    "    for seq,target in sequential_data:\n",
    "        X.append(seq)\n",
    "        Y.append(target)\n",
    "    return np.array(X),np.array(Y)\n",
    "        \n",
    "    \n",
    "                "
   ]
  },
  {
   "cell_type": "code",
   "execution_count": 89,
   "metadata": {},
   "outputs": [],
   "source": [
    "SEQ_LEN=60 #SINCE THE DATA IS FOR EVERY MINUTE, LAST SEQUENCE IS TAKEN TO TRYNA MAKE THE PREDICTION FOR THE FUTURE 3 MINUTES OF DATA\n",
    "FUTURE_PERIOD_PREDICT=3 #FUTURE 3 MINS FOR PREDICTION\n",
    "RATIO_TO_PREDICT='LTC-USD' #COIN OF CONCERN\n",
    "EPOCHS = 10\n",
    "BATCH_SIZE=64\n",
    "NAME=f'{SEQ_LEN}-SEQ-{FUTURE_PERIOD_PREDICT}-PRED-{int(time.time())}'\n",
    "def classify(current,future):\n",
    "    if float(future)>float(current):\n",
    "        return 1\n",
    "    else:\n",
    "        return 0\n",
    "        "
   ]
  },
  {
   "cell_type": "code",
   "execution_count": 90,
   "metadata": {},
   "outputs": [
    {
     "name": "stdout",
     "output_type": "stream",
     "text": [
      "Index(['BTC-USD_close', 'BTC-USD_volume', 'LTC-USD_close', 'LTC-USD_volume',\n",
      "       'ETH-USD_close', 'ETH-USD_volume', 'BCH-USD_close', 'BCH-USD_volume'],\n",
      "      dtype='object')\n"
     ]
    }
   ],
   "source": [
    "main_df=pd.DataFrame()\n",
    "ratios=['BTC-USD','LTC-USD','ETH-USD','BCH-USD']\n",
    "for ratio in ratios:\n",
    "    dataset=f'crypto_data/{ratio}.csv'\n",
    "    df=pd.read_csv(dataset,names=['time','low','high','open','close','volume'])\n",
    "    #print(df.head())\n",
    "    df.rename(columns={'close':f'{ratio}_close','volume':f'{ratio}_volume'},inplace=True)\n",
    "    df.set_index('time',inplace=True)\n",
    "    df=df[[f'{ratio}_close',f'{ratio}_volume']]\n",
    "    if len(main_df)==0:\n",
    "        main_df=df\n",
    "    else:\n",
    "        main_df=main_df.join(df)\n",
    "print(main_df.columns)"
   ]
  },
  {
   "cell_type": "code",
   "execution_count": 91,
   "metadata": {},
   "outputs": [
    {
     "name": "stdout",
     "output_type": "stream",
     "text": [
      "            LTC-USD_close     future  target\n",
      "time                                        \n",
      "1528968660      96.580002  96.500000       0\n",
      "1528968720      96.660004  96.389999       0\n",
      "1528968780      96.570000  96.519997       0\n",
      "1528968840      96.500000  96.440002       0\n",
      "1528968900      96.389999  96.470001       1\n",
      "1528968960      96.519997  96.400002       0\n",
      "1528969020      96.440002  96.400002       0\n",
      "1528969080      96.470001  96.400002       0\n",
      "1528969140      96.400002  96.400002       0\n",
      "1528969200      96.400002  96.400002       0\n"
     ]
    }
   ],
   "source": [
    "main_df['future'] = main_df[f'{RATIO_TO_PREDICT}_close'].shift(-FUTURE_PERIOD_PREDICT)\n",
    "main_df['target'] = list(map(classify,main_df[f'{RATIO_TO_PREDICT}_close'],main_df['future']))\n",
    "print(main_df[[f'{RATIO_TO_PREDICT}_close','future','target']].head(10))"
   ]
  },
  {
   "cell_type": "code",
   "execution_count": 92,
   "metadata": {},
   "outputs": [],
   "source": [
    "times=sorted(main_df.index.values)\n",
    "last_5pct=times[-int(0.05*len(times))]\n",
    "mdf=main_df[[f'{RATIO_TO_PREDICT}_close','future','target']]"
   ]
  },
  {
   "cell_type": "code",
   "execution_count": 93,
   "metadata": {},
   "outputs": [],
   "source": [
    "val_main_df=mdf[(mdf.index>=last_5pct)]\n",
    "main_df=mdf[mdf.index<last_5pct]"
   ]
  },
  {
   "cell_type": "code",
   "execution_count": 94,
   "metadata": {},
   "outputs": [],
   "source": [
    "train_x,train_y=preprocess_df(main_df)\n",
    "val_x,val_y=preprocess_df(val_main_df)"
   ]
  },
  {
   "cell_type": "code",
   "execution_count": null,
   "metadata": {},
   "outputs": [],
   "source": []
  },
  {
   "cell_type": "code",
   "execution_count": null,
   "metadata": {},
   "outputs": [
    {
     "name": "stdout",
     "output_type": "stream",
     "text": [
      "Train on 76380 samples, validate on 3714 samples\n",
      "Epoch 1/10\n",
      "44352/76380 [================>.............] - ETA: 3:49 - loss: 0.7374 - accuracy: 0.5009"
     ]
    }
   ],
   "source": [
    "model = Sequential()\n",
    "model.add(LSTM(128,input_shape=(train_x.shape[1:]), return_sequences=True))\n",
    "model.add(Dropout(0.2))\n",
    "model.add(BatchNormalization())\n",
    "\n",
    "\n",
    "model.add(LSTM(128,input_shape=(train_x.shape[1:]), return_sequences=True))\n",
    "model.add(Dropout(0.1))\n",
    "model.add(BatchNormalization())\n",
    "\n",
    "\n",
    "model.add(LSTM(128,input_shape=(train_x.shape[1:]), return_sequences=True))\n",
    "model.add(Dropout(0.2))\n",
    "model.add(BatchNormalization())\n",
    "\n",
    "model.add(Dense(32,activation='relu'))\n",
    "model.add(Dropout(0.2))\n",
    "model.add(tf.keras.layers.Flatten())\n",
    "model.add(Dense(2,activation='softmax'))\n",
    "\n",
    "opt = tf.keras.optimizers.Adam(lr=0.01)\n",
    "\n",
    "model.compile(loss='sparse_categorical_crossentropy', optimizer=opt,metrics=['accuracy'])\n",
    "\n",
    "tboard_log_dir = os.path.join(\"logs\",NAME)\n",
    "tensorboard = TensorBoard(log_dir = tboard_log_dir)\n",
    "filepath = \"RNN_Final-{epoch:02d}-{val_loss:.3f}\"\n",
    "checkpoint = ModelCheckpoint(tboard_log_dir + 'ep{epoch:03d}-val_loss{val_loss:.3f}.h5',\n",
    "        monitor='val_loss', save_best_only=True, mode='max')\n",
    "history = model.fit(train_x,train_y,batch_size=BATCH_SIZE, epochs=EPOCHS, validation_data=(val_x,val_y),callbacks=[tensorboard,checkpoint])\n"
   ]
  },
  {
   "cell_type": "code",
   "execution_count": 80,
   "metadata": {},
   "outputs": [
    {
     "data": {
      "text/plain": [
       "(69188, 60, 8)"
      ]
     },
     "execution_count": 80,
     "metadata": {},
     "output_type": "execute_result"
    }
   ],
   "source": [
    "train_x.shape"
   ]
  },
  {
   "cell_type": "code",
   "execution_count": null,
   "metadata": {},
   "outputs": [],
   "source": []
  },
  {
   "cell_type": "code",
   "execution_count": null,
   "metadata": {},
   "outputs": [],
   "source": []
  }
 ],
 "metadata": {
  "kernelspec": {
   "display_name": "Python 3",
   "language": "python",
   "name": "python3"
  },
  "language_info": {
   "codemirror_mode": {
    "name": "ipython",
    "version": 3
   },
   "file_extension": ".py",
   "mimetype": "text/x-python",
   "name": "python",
   "nbconvert_exporter": "python",
   "pygments_lexer": "ipython3",
   "version": "3.7.4"
  }
 },
 "nbformat": 4,
 "nbformat_minor": 2
}
